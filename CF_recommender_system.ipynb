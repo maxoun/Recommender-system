{
 "cells": [
  {
   "cell_type": "markdown",
   "id": "42a2df9b-d14b-43c8-89c7-c9fda2741fc0",
   "metadata": {},
   "source": [
    "<h1 align='center'>CF recommender system</h1> "
   ]
  },
  {
   "cell_type": "markdown",
   "id": "e04f54ba-03b5-4fc2-bf7f-6671352e972b",
   "metadata": {},
   "source": [
    "В данной работе я попробую построить коллаборативную рекомендательную систему <br>\n",
    "на основе SVD разложения, а также с использованием ALS факторизации"
   ]
  },
  {
   "cell_type": "code",
   "execution_count": 1,
   "id": "5c19aeb3-a29e-46a8-bd8f-92aa20ba655f",
   "metadata": {},
   "outputs": [],
   "source": [
    "import pandas as pd\n",
    "import numpy as np\n",
    "import matplotlib.pyplot as plt\n",
    "import seaborn as sns\n",
    "from numpy.linalg import solve\n",
    "from sklearn.utils.extmath import randomized_svd"
   ]
  },
  {
   "cell_type": "code",
   "execution_count": 2,
   "id": "02e0f71f-a3df-4636-8d2a-34e97c4d670a",
   "metadata": {},
   "outputs": [],
   "source": [
    "sns.set_theme(style='darkgrid')"
   ]
  },
  {
   "cell_type": "code",
   "execution_count": 3,
   "id": "a6373787-def6-4678-b577-cfb0f1d2c28d",
   "metadata": {},
   "outputs": [],
   "source": [
    "books = pd.read_csv('Books.csv', dtype={'Year-Of-Publication': object})\n",
    "ratings = pd.read_csv('ratings.csv')\n",
    "users = pd.read_csv('Users.csv')"
   ]
  },
  {
   "cell_type": "code",
   "execution_count": 4,
   "id": "7c1ec7e6-18f6-45db-b729-33c0ee53f00f",
   "metadata": {},
   "outputs": [
    {
     "data": {
      "text/html": [
       "<div>\n",
       "<style scoped>\n",
       "    .dataframe tbody tr th:only-of-type {\n",
       "        vertical-align: middle;\n",
       "    }\n",
       "\n",
       "    .dataframe tbody tr th {\n",
       "        vertical-align: top;\n",
       "    }\n",
       "\n",
       "    .dataframe thead th {\n",
       "        text-align: right;\n",
       "    }\n",
       "</style>\n",
       "<table border=\"1\" class=\"dataframe\">\n",
       "  <thead>\n",
       "    <tr style=\"text-align: right;\">\n",
       "      <th></th>\n",
       "      <th>ISBN</th>\n",
       "      <th>Book-Title</th>\n",
       "      <th>Book-Author</th>\n",
       "      <th>Year-Of-Publication</th>\n",
       "      <th>Publisher</th>\n",
       "      <th>Image-URL-S</th>\n",
       "      <th>Image-URL-M</th>\n",
       "      <th>Image-URL-L</th>\n",
       "    </tr>\n",
       "  </thead>\n",
       "  <tbody>\n",
       "    <tr>\n",
       "      <th>0</th>\n",
       "      <td>0195153448</td>\n",
       "      <td>Classical Mythology</td>\n",
       "      <td>Mark P. O. Morford</td>\n",
       "      <td>2002</td>\n",
       "      <td>Oxford University Press</td>\n",
       "      <td>http://images.amazon.com/images/P/0195153448.0...</td>\n",
       "      <td>http://images.amazon.com/images/P/0195153448.0...</td>\n",
       "      <td>http://images.amazon.com/images/P/0195153448.0...</td>\n",
       "    </tr>\n",
       "    <tr>\n",
       "      <th>1</th>\n",
       "      <td>0002005018</td>\n",
       "      <td>Clara Callan</td>\n",
       "      <td>Richard Bruce Wright</td>\n",
       "      <td>2001</td>\n",
       "      <td>HarperFlamingo Canada</td>\n",
       "      <td>http://images.amazon.com/images/P/0002005018.0...</td>\n",
       "      <td>http://images.amazon.com/images/P/0002005018.0...</td>\n",
       "      <td>http://images.amazon.com/images/P/0002005018.0...</td>\n",
       "    </tr>\n",
       "  </tbody>\n",
       "</table>\n",
       "</div>"
      ],
      "text/plain": [
       "         ISBN           Book-Title           Book-Author Year-Of-Publication  \\\n",
       "0  0195153448  Classical Mythology    Mark P. O. Morford                2002   \n",
       "1  0002005018         Clara Callan  Richard Bruce Wright                2001   \n",
       "\n",
       "                 Publisher                                        Image-URL-S  \\\n",
       "0  Oxford University Press  http://images.amazon.com/images/P/0195153448.0...   \n",
       "1    HarperFlamingo Canada  http://images.amazon.com/images/P/0002005018.0...   \n",
       "\n",
       "                                         Image-URL-M  \\\n",
       "0  http://images.amazon.com/images/P/0195153448.0...   \n",
       "1  http://images.amazon.com/images/P/0002005018.0...   \n",
       "\n",
       "                                         Image-URL-L  \n",
       "0  http://images.amazon.com/images/P/0195153448.0...  \n",
       "1  http://images.amazon.com/images/P/0002005018.0...  "
      ]
     },
     "execution_count": 4,
     "metadata": {},
     "output_type": "execute_result"
    }
   ],
   "source": [
    "books.head(2)"
   ]
  },
  {
   "cell_type": "code",
   "execution_count": 5,
   "id": "8cafd43c-9445-4aa5-8ee8-630e30d4c607",
   "metadata": {},
   "outputs": [
    {
     "data": {
      "text/html": [
       "<div>\n",
       "<style scoped>\n",
       "    .dataframe tbody tr th:only-of-type {\n",
       "        vertical-align: middle;\n",
       "    }\n",
       "\n",
       "    .dataframe tbody tr th {\n",
       "        vertical-align: top;\n",
       "    }\n",
       "\n",
       "    .dataframe thead th {\n",
       "        text-align: right;\n",
       "    }\n",
       "</style>\n",
       "<table border=\"1\" class=\"dataframe\">\n",
       "  <thead>\n",
       "    <tr style=\"text-align: right;\">\n",
       "      <th></th>\n",
       "      <th>User-ID</th>\n",
       "      <th>ISBN</th>\n",
       "      <th>Book-Rating</th>\n",
       "    </tr>\n",
       "  </thead>\n",
       "  <tbody>\n",
       "    <tr>\n",
       "      <th>0</th>\n",
       "      <td>276725</td>\n",
       "      <td>034545104X</td>\n",
       "      <td>0</td>\n",
       "    </tr>\n",
       "    <tr>\n",
       "      <th>1</th>\n",
       "      <td>276726</td>\n",
       "      <td>0155061224</td>\n",
       "      <td>5</td>\n",
       "    </tr>\n",
       "  </tbody>\n",
       "</table>\n",
       "</div>"
      ],
      "text/plain": [
       "   User-ID        ISBN  Book-Rating\n",
       "0   276725  034545104X            0\n",
       "1   276726  0155061224            5"
      ]
     },
     "execution_count": 5,
     "metadata": {},
     "output_type": "execute_result"
    }
   ],
   "source": [
    "ratings.head(2)"
   ]
  },
  {
   "cell_type": "code",
   "execution_count": 6,
   "id": "9c87fd2b-0df0-484b-a58a-60c1bb1b4140",
   "metadata": {},
   "outputs": [
    {
     "data": {
      "text/html": [
       "<div>\n",
       "<style scoped>\n",
       "    .dataframe tbody tr th:only-of-type {\n",
       "        vertical-align: middle;\n",
       "    }\n",
       "\n",
       "    .dataframe tbody tr th {\n",
       "        vertical-align: top;\n",
       "    }\n",
       "\n",
       "    .dataframe thead th {\n",
       "        text-align: right;\n",
       "    }\n",
       "</style>\n",
       "<table border=\"1\" class=\"dataframe\">\n",
       "  <thead>\n",
       "    <tr style=\"text-align: right;\">\n",
       "      <th></th>\n",
       "      <th>User-ID</th>\n",
       "      <th>Location</th>\n",
       "      <th>Age</th>\n",
       "    </tr>\n",
       "  </thead>\n",
       "  <tbody>\n",
       "    <tr>\n",
       "      <th>0</th>\n",
       "      <td>1</td>\n",
       "      <td>nyc, new york, usa</td>\n",
       "      <td>NaN</td>\n",
       "    </tr>\n",
       "    <tr>\n",
       "      <th>1</th>\n",
       "      <td>2</td>\n",
       "      <td>stockton, california, usa</td>\n",
       "      <td>18.0</td>\n",
       "    </tr>\n",
       "    <tr>\n",
       "      <th>2</th>\n",
       "      <td>3</td>\n",
       "      <td>moscow, yukon territory, russia</td>\n",
       "      <td>NaN</td>\n",
       "    </tr>\n",
       "  </tbody>\n",
       "</table>\n",
       "</div>"
      ],
      "text/plain": [
       "   User-ID                         Location   Age\n",
       "0        1               nyc, new york, usa   NaN\n",
       "1        2        stockton, california, usa  18.0\n",
       "2        3  moscow, yukon territory, russia   NaN"
      ]
     },
     "execution_count": 6,
     "metadata": {},
     "output_type": "execute_result"
    }
   ],
   "source": [
    "users.head(3)"
   ]
  },
  {
   "cell_type": "markdown",
   "id": "4e9432c5-868f-49e0-9e46-c45654622bcf",
   "metadata": {},
   "source": [
    "# Data preprocessing and visualization"
   ]
  },
  {
   "cell_type": "code",
   "execution_count": 7,
   "id": "262331e8-532b-47dd-bd86-747ed92eed18",
   "metadata": {},
   "outputs": [
    {
     "name": "stdout",
     "output_type": "stream",
     "text": [
      "<class 'pandas.core.frame.DataFrame'>\n",
      "RangeIndex: 271360 entries, 0 to 271359\n",
      "Data columns (total 8 columns):\n",
      " #   Column               Non-Null Count   Dtype \n",
      "---  ------               --------------   ----- \n",
      " 0   ISBN                 271360 non-null  object\n",
      " 1   Book-Title           271360 non-null  object\n",
      " 2   Book-Author          271359 non-null  object\n",
      " 3   Year-Of-Publication  271360 non-null  object\n",
      " 4   Publisher            271358 non-null  object\n",
      " 5   Image-URL-S          271360 non-null  object\n",
      " 6   Image-URL-M          271360 non-null  object\n",
      " 7   Image-URL-L          271357 non-null  object\n",
      "dtypes: object(8)\n",
      "memory usage: 16.6+ MB\n"
     ]
    }
   ],
   "source": [
    "books.info()"
   ]
  },
  {
   "cell_type": "code",
   "execution_count": 8,
   "id": "2faaad58-f10a-4f17-bc70-9a5f11322594",
   "metadata": {},
   "outputs": [
    {
     "data": {
      "text/plain": [
       "ISBN                   0\n",
       "Book-Title             0\n",
       "Book-Author            1\n",
       "Year-Of-Publication    0\n",
       "Publisher              2\n",
       "Image-URL-S            0\n",
       "Image-URL-M            0\n",
       "Image-URL-L            3\n",
       "dtype: int64"
      ]
     },
     "execution_count": 8,
     "metadata": {},
     "output_type": "execute_result"
    }
   ],
   "source": [
    "books.isna().sum()"
   ]
  },
  {
   "cell_type": "code",
   "execution_count": 9,
   "id": "a71093c1-91f3-4673-84c9-b3e0a439710a",
   "metadata": {},
   "outputs": [],
   "source": [
    "books.drop(['Image-URL-S','Image-URL-M','Image-URL-L'], axis=1, inplace=True)"
   ]
  },
  {
   "cell_type": "code",
   "execution_count": 10,
   "id": "df394e07-ca11-414f-93f1-289a7e62734a",
   "metadata": {},
   "outputs": [],
   "source": [
    "books.dropna(inplace=True)"
   ]
  },
  {
   "cell_type": "markdown",
   "id": "fff969c1-f33b-44f2-a7d0-bbce714f506a",
   "metadata": {},
   "source": [
    "Можем заметить большое количество пропусков, в признаке возраста пользователей"
   ]
  },
  {
   "cell_type": "code",
   "execution_count": 11,
   "id": "5df30dfa-cda7-4a76-8d7f-dc5a40389d35",
   "metadata": {},
   "outputs": [
    {
     "data": {
      "text/plain": [
       "User-ID          0\n",
       "Location         0\n",
       "Age         110762\n",
       "dtype: int64"
      ]
     },
     "execution_count": 11,
     "metadata": {},
     "output_type": "execute_result"
    }
   ],
   "source": [
    "users.isna().sum()"
   ]
  },
  {
   "cell_type": "code",
   "execution_count": 12,
   "id": "f9975c38-670c-4c09-b537-2084337fc900",
   "metadata": {},
   "outputs": [
    {
     "data": {
      "text/plain": [
       "User-ID        0\n",
       "ISBN           0\n",
       "Book-Rating    0\n",
       "dtype: int64"
      ]
     },
     "execution_count": 12,
     "metadata": {},
     "output_type": "execute_result"
    }
   ],
   "source": [
    "ratings.isna().sum()"
   ]
  },
  {
   "cell_type": "markdown",
   "id": "2321c92b-4101-4c50-94ab-10f3f5a91b2b",
   "metadata": {},
   "source": [
    "Уберем данные, где год выпуска равен '0' или вообще строке, также странно выглядят года вроде '2037', возможно это год планируемой публикации в их случае"
   ]
  },
  {
   "cell_type": "code",
   "execution_count": 13,
   "id": "6ceefa33-9d75-475d-9be3-40c018417b1a",
   "metadata": {},
   "outputs": [
    {
     "data": {
      "text/plain": [
       "array(['2002', '2001', '1991', '1999', '2000', '1993', '1996', '1988',\n",
       "       '2004', '1998', '1994', '2003', '1997', '1983', '1979', '1995',\n",
       "       '1982', '1985', '1992', '1986', '1978', '1980', '1952', '1987',\n",
       "       '1990', '1981', '1989', '1984', '0', '1968', '1961', '1958',\n",
       "       '1974', '1976', '1971', '1977', '1975', '1965', '1941', '1970',\n",
       "       '1962', '1973', '1972', '1960', '1966', '1920', '1956', '1959',\n",
       "       '1953', '1951', '1942', '1963', '1964', '1969', '1954', '1950',\n",
       "       '1967', '2005', '1957', '1940', '1937', '1955', '1946', '1936',\n",
       "       '1930', '2011', '1925', '1948', '1943', '1947', '1945', '1923',\n",
       "       '2020', '1939', '1926', '1938', '2030', '1911', '1904', '1949',\n",
       "       '1932', '1928', '1929', '1927', '1931', '1914', '2050', '1934',\n",
       "       '1910', '1933', '1902', '1924', '1921', '1900', '2038', '2026',\n",
       "       '1944', '1917', '1901', '2010', '1908', '1906', '1935', '1806',\n",
       "       '2021', '2012', '2006', 'DK Publishing Inc', 'Gallimard', '1909',\n",
       "       '2008', '1378', '1919', '1922', '1897', '2024', '1376', '2037'],\n",
       "      dtype=object)"
      ]
     },
     "execution_count": 13,
     "metadata": {},
     "output_type": "execute_result"
    }
   ],
   "source": [
    "books['Year-Of-Publication'].unique()"
   ]
  },
  {
   "cell_type": "code",
   "execution_count": 14,
   "id": "d5720c81-ee1f-4674-8000-82714f84cf64",
   "metadata": {},
   "outputs": [],
   "source": [
    "books = books[~books['Year-Of-Publication'].isin(['0','DK Publishing Inc','Gallimard'])].astype({'Year-Of-Publication': int})"
   ]
  },
  {
   "cell_type": "markdown",
   "id": "5b133afe-e28c-4a79-be5d-a9eab69ecd29",
   "metadata": {},
   "source": [
    "Попробуем разбить признак 'Location' на на три состовляющие, даже с учетом не всегда полных данных"
   ]
  },
  {
   "cell_type": "code",
   "execution_count": 15,
   "id": "df62aed6-124b-4cf6-b896-b4c7abeb0ad9",
   "metadata": {},
   "outputs": [],
   "source": [
    "users[['city','region','country']] = np.nan\n",
    "\n",
    "for num, location in enumerate(users.Location):\n",
    "    users.loc[num, 'city'] = location.split(',')[0].strip()\n",
    "    try:\n",
    "        users.loc[num, 'region'] = location.split(',')[1].strip()\n",
    "    except IndexError:\n",
    "        users.loc[num, 'region'] = 'n/a'\n",
    "    try:\n",
    "        users.loc[num, 'country'] = location.split(',')[2].strip()\n",
    "    except IndexError:\n",
    "        users.loc[num, 'country'] = 'n/a'    "
   ]
  },
  {
   "cell_type": "markdown",
   "id": "3c0410e7-950a-4f9f-8a67-8df85abaf4bc",
   "metadata": {},
   "source": [
    "Объединим наши датасеты в один общий"
   ]
  },
  {
   "cell_type": "code",
   "execution_count": 16,
   "id": "c87078bd-7b39-4e91-ace8-738bad548fcb",
   "metadata": {},
   "outputs": [],
   "source": [
    "user_rating = ratings.merge(users, left_on = 'User-ID', right_on = 'User-ID')\n",
    "full_data = user_rating.merge(books, left_on = 'ISBN', right_on = 'ISBN')"
   ]
  },
  {
   "cell_type": "markdown",
   "id": "3598d3cc-f76a-4179-86aa-9673a99a34fe",
   "metadata": {},
   "source": [
    "Десятка пользователей с наибольшим количеством прочитаных книг и их средний рейтинг"
   ]
  },
  {
   "cell_type": "code",
   "execution_count": 17,
   "id": "33f253da-c953-41dd-b69c-329f36710330",
   "metadata": {},
   "outputs": [
    {
     "data": {
      "text/html": [
       "<div>\n",
       "<style scoped>\n",
       "    .dataframe tbody tr th:only-of-type {\n",
       "        vertical-align: middle;\n",
       "    }\n",
       "\n",
       "    .dataframe tbody tr th {\n",
       "        vertical-align: top;\n",
       "    }\n",
       "\n",
       "    .dataframe thead th {\n",
       "        text-align: right;\n",
       "    }\n",
       "</style>\n",
       "<table border=\"1\" class=\"dataframe\">\n",
       "  <thead>\n",
       "    <tr style=\"text-align: right;\">\n",
       "      <th></th>\n",
       "      <th>User-ID</th>\n",
       "      <th>number_of_books</th>\n",
       "      <th>mean_books_rating</th>\n",
       "    </tr>\n",
       "  </thead>\n",
       "  <tbody>\n",
       "    <tr>\n",
       "      <th>3566</th>\n",
       "      <td>11676</td>\n",
       "      <td>10916</td>\n",
       "      <td>4.573379</td>\n",
       "    </tr>\n",
       "    <tr>\n",
       "      <th>64317</th>\n",
       "      <td>198711</td>\n",
       "      <td>6358</td>\n",
       "      <td>0.019346</td>\n",
       "    </tr>\n",
       "    <tr>\n",
       "      <th>50075</th>\n",
       "      <td>153662</td>\n",
       "      <td>5789</td>\n",
       "      <td>2.744170</td>\n",
       "    </tr>\n",
       "    <tr>\n",
       "      <th>32057</th>\n",
       "      <td>98391</td>\n",
       "      <td>5777</td>\n",
       "      <td>8.727194</td>\n",
       "    </tr>\n",
       "    <tr>\n",
       "      <th>11669</th>\n",
       "      <td>35859</td>\n",
       "      <td>5615</td>\n",
       "      <td>1.029386</td>\n",
       "    </tr>\n",
       "    <tr>\n",
       "      <th>69015</th>\n",
       "      <td>212898</td>\n",
       "      <td>4270</td>\n",
       "      <td>0.003513</td>\n",
       "    </tr>\n",
       "    <tr>\n",
       "      <th>90530</th>\n",
       "      <td>278418</td>\n",
       "      <td>3959</td>\n",
       "      <td>0.158373</td>\n",
       "    </tr>\n",
       "    <tr>\n",
       "      <th>24871</th>\n",
       "      <td>76352</td>\n",
       "      <td>3310</td>\n",
       "      <td>0.141994</td>\n",
       "    </tr>\n",
       "    <tr>\n",
       "      <th>36068</th>\n",
       "      <td>110973</td>\n",
       "      <td>2949</td>\n",
       "      <td>0.812818</td>\n",
       "    </tr>\n",
       "    <tr>\n",
       "      <th>76302</th>\n",
       "      <td>235105</td>\n",
       "      <td>2921</td>\n",
       "      <td>2.786717</td>\n",
       "    </tr>\n",
       "  </tbody>\n",
       "</table>\n",
       "</div>"
      ],
      "text/plain": [
       "       User-ID  number_of_books  mean_books_rating\n",
       "3566     11676            10916           4.573379\n",
       "64317   198711             6358           0.019346\n",
       "50075   153662             5789           2.744170\n",
       "32057    98391             5777           8.727194\n",
       "11669    35859             5615           1.029386\n",
       "69015   212898             4270           0.003513\n",
       "90530   278418             3959           0.158373\n",
       "24871    76352             3310           0.141994\n",
       "36068   110973             2949           0.812818\n",
       "76302   235105             2921           2.786717"
      ]
     },
     "execution_count": 17,
     "metadata": {},
     "output_type": "execute_result"
    }
   ],
   "source": [
    "full_data.groupby('User-ID', as_index=False).agg({'ISBN':'count', 'Book-Rating':'mean'}).sort_values(by='ISBN', ascending=False) \\\n",
    ".rename({'ISBN': 'number_of_books', 'Book-Rating':'mean_books_rating'}, axis='columns')[:10]"
   ]
  },
  {
   "cell_type": "markdown",
   "id": "4986439e-820b-4e07-a4d8-ffc95fa48907",
   "metadata": {},
   "source": [
    "Десяток самых популярных книг и их рейтинг"
   ]
  },
  {
   "cell_type": "code",
   "execution_count": 18,
   "id": "12a2d0d5-0438-4e89-9071-80610ae3cc39",
   "metadata": {},
   "outputs": [
    {
     "data": {
      "text/html": [
       "<div>\n",
       "<style scoped>\n",
       "    .dataframe tbody tr th:only-of-type {\n",
       "        vertical-align: middle;\n",
       "    }\n",
       "\n",
       "    .dataframe tbody tr th {\n",
       "        vertical-align: top;\n",
       "    }\n",
       "\n",
       "    .dataframe thead th {\n",
       "        text-align: right;\n",
       "    }\n",
       "</style>\n",
       "<table border=\"1\" class=\"dataframe\">\n",
       "  <thead>\n",
       "    <tr style=\"text-align: right;\">\n",
       "      <th></th>\n",
       "      <th>Book-Title</th>\n",
       "      <th>number_of_users</th>\n",
       "      <th>Book-Rating</th>\n",
       "    </tr>\n",
       "  </thead>\n",
       "  <tbody>\n",
       "    <tr>\n",
       "      <th>231432</th>\n",
       "      <td>Wild Animus</td>\n",
       "      <td>2502</td>\n",
       "      <td>1.019584</td>\n",
       "    </tr>\n",
       "    <tr>\n",
       "      <th>193177</th>\n",
       "      <td>The Lovely Bones: A Novel</td>\n",
       "      <td>1295</td>\n",
       "      <td>4.468726</td>\n",
       "    </tr>\n",
       "    <tr>\n",
       "      <th>180459</th>\n",
       "      <td>The Da Vinci Code</td>\n",
       "      <td>897</td>\n",
       "      <td>4.647715</td>\n",
       "    </tr>\n",
       "    <tr>\n",
       "      <th>5262</th>\n",
       "      <td>A Painted House</td>\n",
       "      <td>838</td>\n",
       "      <td>3.231504</td>\n",
       "    </tr>\n",
       "    <tr>\n",
       "      <th>196085</th>\n",
       "      <td>The Nanny Diaries: A Novel</td>\n",
       "      <td>828</td>\n",
       "      <td>3.530193</td>\n",
       "    </tr>\n",
       "    <tr>\n",
       "      <th>27561</th>\n",
       "      <td>Bridget Jones's Diary</td>\n",
       "      <td>815</td>\n",
       "      <td>3.527607</td>\n",
       "    </tr>\n",
       "    <tr>\n",
       "      <th>203330</th>\n",
       "      <td>The Secret Life of Bees</td>\n",
       "      <td>774</td>\n",
       "      <td>4.447028</td>\n",
       "    </tr>\n",
       "    <tr>\n",
       "      <th>52123</th>\n",
       "      <td>Divine Secrets of the Ya-Ya Sisterhood: A Novel</td>\n",
       "      <td>740</td>\n",
       "      <td>3.437838</td>\n",
       "    </tr>\n",
       "    <tr>\n",
       "      <th>201223</th>\n",
       "      <td>The Red Tent (Bestselling Backlist)</td>\n",
       "      <td>723</td>\n",
       "      <td>4.334716</td>\n",
       "    </tr>\n",
       "    <tr>\n",
       "      <th>14266</th>\n",
       "      <td>Angels &amp;amp; Demons</td>\n",
       "      <td>670</td>\n",
       "      <td>3.708955</td>\n",
       "    </tr>\n",
       "  </tbody>\n",
       "</table>\n",
       "</div>"
      ],
      "text/plain": [
       "                                             Book-Title  number_of_users  \\\n",
       "231432                                      Wild Animus             2502   \n",
       "193177                        The Lovely Bones: A Novel             1295   \n",
       "180459                                The Da Vinci Code              897   \n",
       "5262                                    A Painted House              838   \n",
       "196085                       The Nanny Diaries: A Novel              828   \n",
       "27561                             Bridget Jones's Diary              815   \n",
       "203330                          The Secret Life of Bees              774   \n",
       "52123   Divine Secrets of the Ya-Ya Sisterhood: A Novel              740   \n",
       "201223              The Red Tent (Bestselling Backlist)              723   \n",
       "14266                               Angels &amp; Demons              670   \n",
       "\n",
       "        Book-Rating  \n",
       "231432     1.019584  \n",
       "193177     4.468726  \n",
       "180459     4.647715  \n",
       "5262       3.231504  \n",
       "196085     3.530193  \n",
       "27561      3.527607  \n",
       "203330     4.447028  \n",
       "52123      3.437838  \n",
       "201223     4.334716  \n",
       "14266      3.708955  "
      ]
     },
     "execution_count": 18,
     "metadata": {},
     "output_type": "execute_result"
    }
   ],
   "source": [
    "full_data.groupby(['Book-Title'], as_index=False).agg({'User-ID':'count','Book-Rating':'mean'}).sort_values(by='User-ID', ascending=False) \\\n",
    ".rename({'User-ID': 'number_of_users'}, axis='columns')[:10]"
   ]
  },
  {
   "cell_type": "code",
   "execution_count": 19,
   "id": "0306b8b4-d5c6-4b67-b23a-66e6b69df17f",
   "metadata": {},
   "outputs": [
    {
     "data": {
      "image/png": "[encoded data removed]",
      "text/plain": [
       "<Figure size 800x480 with 1 Axes>"
      ]
     },
     "metadata": {},
     "output_type": "display_data"
    }
   ],
   "source": [
    "plt.figure(figsize=(10,6), dpi=80)\n",
    "plt.title('10 авторов с наибольшим количеством книг (включены различные языки и издания)', color='black', fontsize=16, fontstyle='italic')\n",
    "ax = sns.barplot(y=books['Book-Author'].value_counts()[:10].index, x=books['Book-Author'].value_counts()[:10].values)\n",
    "ax.bar_label(ax.containers[0])\n",
    "plt.show()"
   ]
  },
  {
   "cell_type": "code",
   "execution_count": 20,
   "id": "3c9a0827-618d-46f9-80d4-66f217413f9f",
   "metadata": {},
   "outputs": [
    {
     "data": {
      "image/png": "[encoded data removed]",
      "text/plain": [
       "<Figure size 800x480 with 1 Axes>"
      ]
     },
     "metadata": {},
     "output_type": "display_data"
    }
   ],
   "source": [
    "plt.figure(figsize=(10,6), dpi=80)\n",
    "plt.title('10 самых крупных издателей', color='black', fontsize=16, fontstyle='italic')\n",
    "ax = sns.barplot(y=books['Publisher'].value_counts()[:10].index, x=books['Publisher'].value_counts()[:10].values)\n",
    "ax.bar_label(ax.containers[0])\n",
    "plt.show()"
   ]
  },
  {
   "cell_type": "markdown",
   "id": "e52acbcc-c70a-437d-8b74-9084488e2c0b",
   "metadata": {},
   "source": [
    "Реализуем алгоритм факторизации ALS, чтобы наша матрицаоценок пользователей не была такой разреженной"
   ]
  },
  {
   "cell_type": "markdown",
   "id": "efad4c10-fab8-4191-bd11-f806375b61c7",
   "metadata": {},
   "source": [
    "<!-- 1. Инициализация матриц пользователей и товаров случайными значениями:\n",
    "\n",
    "Матрица пользователей: \n",
    "\n",
    "$$U = \\begin{bmatrix}u_{1,1} & u_{1,2} & \\dots & u_{1,k} \\\\ u_{2,1} & u_{2,2} & \\dots & u_{2,k} \\\\ \\vdots & \\vdots & \\ddots & \\vdots \\\\ u_{n,1} & u_{n,2} & \\dots & u_{n,k}\\end{bmatrix}$$\n",
    "\n",
    "Матрица товаров:\n",
    "\n",
    "$$V = \\begin{bmatrix}v_{1,1} & v_{1,2} & \\dots & v_{1,m} \\\\ v_{2,1} & v_{2,2} & \\dots & v_{2,m} \\\\ \\vdots & \\vdots & \\ddots & \\vdots \\\\ v_{k,1} & v_{k,2} & \\dots & v_{k,m}\\end{bmatrix}$$\n",
    "\n",
    "где $n$ - количество пользователей, $m$ - количество товаров, $k$ - размерность скрытого пространства.\n",
    "\n",
    "2. Оптимизация матрицы товаров при фиксированной матрице пользователей:\n",
    "\n",
    "Для каждого столбца матрицы товаров:\n",
    "\n",
    "$$V_j = (U^TU)^{-1}U^TR_j$$\n",
    "\n",
    "где $R_j$ - вектор оценок пользователей для товара $j$.\n",
    "\n",
    "3. Оптимизация матрицы пользователей при фиксированной матрице товаров:\n",
    "\n",
    "Для каждой строки матрицы пользователей:\n",
    "\n",
    "$$U_i = (VV^T)^{-1}VR_i^T$$\n",
    "\n",
    "где $R_i$ - вектор оценок пользователя $i$ для всех товаров.\n",
    "\n",
    "4. Вычисление предсказанных оценок пользователей для товаров:\n",
    "\n",
    "$$\\hat{R} = UV$$\n",
    "\n",
    "5. Вычисление средней квадратичной ошибки:\n",
    "\n",
    "$$MSE = \\frac{1}{nm}\\sum_{i=1}^{n}\\sum_{j=1}^{m}(R_{ij} - \\hat{R}_{ij})^2$$\n",
    "\n",
    "6. Проверка на достижение требуемой точности:\n",
    "\n",
    "Если $MSE < tolerance$, то завершаем оптимизацию. -->"
   ]
  },
  {
   "cell_type": "code",
   "execution_count": 21,
   "id": "0eda3f65-433a-4d17-aea7-2557ae78d825",
   "metadata": {},
   "outputs": [],
   "source": [
    "def als(R, k, alpha=0.1, max_iter=200):\n",
    "\n",
    "    N, M = R.shape\n",
    "    P = np.random.rand(N, k)\n",
    "    Q = np.random.rand(k, M)\n",
    "\n",
    "    for _ in range(max_iter):\n",
    "        for i in range(N):\n",
    "            Q_t = Q[:, R[i, :] > 0]\n",
    "            P[i, :] = np.linalg.solve(np.dot(Q_t, Q_t.T) + alpha * np.eye(k), np.dot(Q_t, R[i, R[i, :] > 0].T))\n",
    "\n",
    "        for j in range(M):\n",
    "            P_t = P[R[:, j] > 0, :]\n",
    "            Q[:, j] = np.linalg.solve(np.dot(P_t.T, P_t) + alpha * np.eye(k), np.dot(P_t.T, R[R[:, j] > 0, j]))\n",
    "\n",
    "    return P, Q"
   ]
  },
  {
   "cell_type": "markdown",
   "id": "80c77f38-022c-4805-bafe-cf1d0e47dcdc",
   "metadata": {},
   "source": [
    "Чтобы упростить вычисления я буду использовать не всю матрицу, элементы матрицы выберу случайно"
   ]
  },
  {
   "cell_type": "code",
   "execution_count": 22,
   "id": "198346ff-11e9-4c08-b494-2009b7f88853",
   "metadata": {},
   "outputs": [],
   "source": [
    "rand_index = np.random.choice(full_data.index,size=10000, replace=False)"
   ]
  },
  {
   "cell_type": "code",
   "execution_count": 23,
   "id": "d29fa510-83bc-4749-bf6b-81cc30d5dc01",
   "metadata": {},
   "outputs": [],
   "source": [
    "crop_data = full_data[full_data.index.isin(rand_index)]"
   ]
  },
  {
   "cell_type": "markdown",
   "id": "02f234b9-0930-4267-a446-0f050bcbc646",
   "metadata": {},
   "source": [
    "Создадим нашу матрицу оценок пользователей"
   ]
  },
  {
   "cell_type": "code",
   "execution_count": 24,
   "id": "6db24695-dbfc-426a-b999-d4e71df1f174",
   "metadata": {},
   "outputs": [
    {
     "data": {
      "text/plain": [
       "(5231, 8621)"
      ]
     },
     "execution_count": 24,
     "metadata": {},
     "output_type": "execute_result"
    }
   ],
   "source": [
    "pivot_crop_data = pd.pivot_table(crop_data, index='User-ID', columns='ISBN', values='Book-Rating').fillna(0)\n",
    "pivot_crop_data.shape"
   ]
  },
  {
   "cell_type": "markdown",
   "id": "b294b903-d845-43b6-906e-5cb29fb1a8f5",
   "metadata": {},
   "source": [
    "Применим нашу ALS факторизацию"
   ]
  },
  {
   "cell_type": "code",
   "execution_count": 25,
   "id": "58de5bb1-9eed-4f2f-944b-998d4ea81436",
   "metadata": {},
   "outputs": [
    {
     "data": {
      "text/plain": [
       "(5231, 8621)"
      ]
     },
     "execution_count": 25,
     "metadata": {},
     "output_type": "execute_result"
    }
   ],
   "source": [
    "P, Q = als(pivot_crop_data.values, 500)\n",
    "(P @ Q).shape"
   ]
  },
  {
   "cell_type": "code",
   "execution_count": 26,
   "id": "d46babe9-fd1a-4953-8949-d34794acd445",
   "metadata": {},
   "outputs": [
    {
     "data": {
      "text/plain": [
       "array([[0.        , 0.        , 0.        , 5.68827185, 0.        ,\n",
       "        0.        , 0.        , 0.        , 5.39574549, 0.        ],\n",
       "       [0.        , 0.        , 0.        , 4.70588891, 0.        ,\n",
       "        0.        , 0.        , 0.        , 4.42092566, 0.        ]])"
      ]
     },
     "execution_count": 26,
     "metadata": {},
     "output_type": "execute_result"
    }
   ],
   "source": [
    "(P @ Q)[1:3, 0:10]"
   ]
  },
  {
   "cell_type": "markdown",
   "id": "e95dd112-ea0b-4c73-9cc3-c6d57b8fe99e",
   "metadata": {},
   "source": [
    "Так как после ALS факторизации матрица может принимать и отрицательные значения, мы округлим полученные значения <br>\n",
    "и зададим границы наших оценок, которые были в пределах от 0 до 10"
   ]
  },
  {
   "cell_type": "code",
   "execution_count": 27,
   "id": "c45f3528-e6b5-4a03-b782-770ce95a72b5",
   "metadata": {},
   "outputs": [],
   "source": [
    "PQ = np.round(np.clip((P @ Q), 0, 10))"
   ]
  },
  {
   "cell_type": "code",
   "execution_count": 28,
   "id": "1c9cbbe0-aec7-4b1a-96c1-88fb8bc80e3c",
   "metadata": {},
   "outputs": [
    {
     "name": "stdout",
     "output_type": "stream",
     "text": [
      "Количество нулей в исходной матрице = 45092718 \n",
      "Количество нулей после факторизации = 36584614\n"
     ]
    }
   ],
   "source": [
    "print(f'Количество нулей в исходной матрице = {(pivot_crop_data.values == 0).sum()} \\n\\\n",
    "Количество нулей после факторизации = {(PQ == 0).sum()}')"
   ]
  },
  {
   "cell_type": "markdown",
   "id": "a88d3955-a970-478b-bb45-9f7bfff400cb",
   "metadata": {},
   "source": [
    "Матрица явно стала менее разреженной, но не настолько хорошо, как хотелось бы"
   ]
  },
  {
   "cell_type": "code",
   "execution_count": 29,
   "id": "55932090-b4eb-45f4-87a5-0683d1c8b293",
   "metadata": {},
   "outputs": [],
   "source": [
    "U, s, Vt = randomized_svd(PQ, n_components=500, random_state=44)\n",
    "predicted_ratings = np.round(np.clip(U.dot(np.diag(s)).dot(Vt), 0, 10))"
   ]
  },
  {
   "cell_type": "code",
   "execution_count": 30,
   "id": "1f202665-7393-4421-8b0c-481eb9851400",
   "metadata": {},
   "outputs": [
    {
     "data": {
      "text/plain": [
       "(5231, 8621)"
      ]
     },
     "execution_count": 30,
     "metadata": {},
     "output_type": "execute_result"
    }
   ],
   "source": [
    "predicted_ratings.shape"
   ]
  },
  {
   "cell_type": "code",
   "execution_count": 31,
   "id": "28bc8ead-5f99-4320-9ba0-320b38f290b6",
   "metadata": {},
   "outputs": [],
   "source": [
    "books_dict = dict(zip(full_data['ISBN'].unique(), full_data['Book-Title'].unique()))"
   ]
  },
  {
   "cell_type": "markdown",
   "id": "49d22e8a-80f4-4d13-94a3-75979f4fe799",
   "metadata": {},
   "source": [
    "Возьмем пользователей, на которых будем тестировать рекомендации"
   ]
  },
  {
   "cell_type": "code",
   "execution_count": 32,
   "id": "110fe20b-9acf-43c3-b512-774061d4e928",
   "metadata": {},
   "outputs": [],
   "source": [
    "new_users = pivot_crop_data.iloc[370:373]"
   ]
  },
  {
   "cell_type": "code",
   "execution_count": 33,
   "id": "53638b32-1ad0-42f3-acd9-6ba888bb1a0a",
   "metadata": {},
   "outputs": [
    {
     "data": {
      "text/html": [
       "<div>\n",
       "<style scoped>\n",
       "    .dataframe tbody tr th:only-of-type {\n",
       "        vertical-align: middle;\n",
       "    }\n",
       "\n",
       "    .dataframe tbody tr th {\n",
       "        vertical-align: top;\n",
       "    }\n",
       "\n",
       "    .dataframe thead th {\n",
       "        text-align: right;\n",
       "    }\n",
       "</style>\n",
       "<table border=\"1\" class=\"dataframe\">\n",
       "  <thead>\n",
       "    <tr style=\"text-align: right;\">\n",
       "      <th>ISBN</th>\n",
       "      <th>0002259877</th>\n",
       "      <th>0003252477</th>\n",
       "      <th>0004701674</th>\n",
       "      <th>0004709934</th>\n",
       "      <th>0006175465</th>\n",
       "      <th>000634156X</th>\n",
       "      <th>0006372570</th>\n",
       "      <th>0006374964</th>\n",
       "      <th>0006385621</th>\n",
       "      <th>0006472648</th>\n",
       "      <th>...</th>\n",
       "      <th>9681500954</th>\n",
       "      <th>968150108X</th>\n",
       "      <th>9684443102</th>\n",
       "      <th>9706516158</th>\n",
       "      <th>972211137X</th>\n",
       "      <th>9723704242</th>\n",
       "      <th>9728423160</th>\n",
       "      <th>981013004X</th>\n",
       "      <th>9812327975</th>\n",
       "      <th>9871138016</th>\n",
       "    </tr>\n",
       "    <tr>\n",
       "      <th>User-ID</th>\n",
       "      <th></th>\n",
       "      <th></th>\n",
       "      <th></th>\n",
       "      <th></th>\n",
       "      <th></th>\n",
       "      <th></th>\n",
       "      <th></th>\n",
       "      <th></th>\n",
       "      <th></th>\n",
       "      <th></th>\n",
       "      <th></th>\n",
       "      <th></th>\n",
       "      <th></th>\n",
       "      <th></th>\n",
       "      <th></th>\n",
       "      <th></th>\n",
       "      <th></th>\n",
       "      <th></th>\n",
       "      <th></th>\n",
       "      <th></th>\n",
       "      <th></th>\n",
       "    </tr>\n",
       "  </thead>\n",
       "  <tbody>\n",
       "    <tr>\n",
       "      <th>20918</th>\n",
       "      <td>0.0</td>\n",
       "      <td>0.0</td>\n",
       "      <td>0.0</td>\n",
       "      <td>0.0</td>\n",
       "      <td>0.0</td>\n",
       "      <td>0.0</td>\n",
       "      <td>0.0</td>\n",
       "      <td>0.0</td>\n",
       "      <td>0.0</td>\n",
       "      <td>0.0</td>\n",
       "      <td>...</td>\n",
       "      <td>0.0</td>\n",
       "      <td>0.0</td>\n",
       "      <td>0.0</td>\n",
       "      <td>0.0</td>\n",
       "      <td>0.0</td>\n",
       "      <td>0.0</td>\n",
       "      <td>0.0</td>\n",
       "      <td>0.0</td>\n",
       "      <td>0.0</td>\n",
       "      <td>0.0</td>\n",
       "    </tr>\n",
       "    <tr>\n",
       "      <th>20961</th>\n",
       "      <td>0.0</td>\n",
       "      <td>0.0</td>\n",
       "      <td>0.0</td>\n",
       "      <td>0.0</td>\n",
       "      <td>0.0</td>\n",
       "      <td>0.0</td>\n",
       "      <td>0.0</td>\n",
       "      <td>0.0</td>\n",
       "      <td>0.0</td>\n",
       "      <td>0.0</td>\n",
       "      <td>...</td>\n",
       "      <td>0.0</td>\n",
       "      <td>0.0</td>\n",
       "      <td>0.0</td>\n",
       "      <td>0.0</td>\n",
       "      <td>0.0</td>\n",
       "      <td>0.0</td>\n",
       "      <td>0.0</td>\n",
       "      <td>0.0</td>\n",
       "      <td>0.0</td>\n",
       "      <td>0.0</td>\n",
       "    </tr>\n",
       "    <tr>\n",
       "      <th>20963</th>\n",
       "      <td>0.0</td>\n",
       "      <td>0.0</td>\n",
       "      <td>0.0</td>\n",
       "      <td>0.0</td>\n",
       "      <td>0.0</td>\n",
       "      <td>0.0</td>\n",
       "      <td>0.0</td>\n",
       "      <td>0.0</td>\n",
       "      <td>0.0</td>\n",
       "      <td>0.0</td>\n",
       "      <td>...</td>\n",
       "      <td>0.0</td>\n",
       "      <td>0.0</td>\n",
       "      <td>0.0</td>\n",
       "      <td>0.0</td>\n",
       "      <td>0.0</td>\n",
       "      <td>0.0</td>\n",
       "      <td>0.0</td>\n",
       "      <td>0.0</td>\n",
       "      <td>0.0</td>\n",
       "      <td>0.0</td>\n",
       "    </tr>\n",
       "  </tbody>\n",
       "</table>\n",
       "<p>3 rows × 8621 columns</p>\n",
       "</div>"
      ],
      "text/plain": [
       "ISBN     0002259877  0003252477  0004701674  0004709934  0006175465  \\\n",
       "User-ID                                                               \n",
       "20918           0.0         0.0         0.0         0.0         0.0   \n",
       "20961           0.0         0.0         0.0         0.0         0.0   \n",
       "20963           0.0         0.0         0.0         0.0         0.0   \n",
       "\n",
       "ISBN     000634156X  0006372570  0006374964  0006385621  0006472648  ...  \\\n",
       "User-ID                                                              ...   \n",
       "20918           0.0         0.0         0.0         0.0         0.0  ...   \n",
       "20961           0.0         0.0         0.0         0.0         0.0  ...   \n",
       "20963           0.0         0.0         0.0         0.0         0.0  ...   \n",
       "\n",
       "ISBN     9681500954  968150108X  9684443102  9706516158  972211137X  \\\n",
       "User-ID                                                               \n",
       "20918           0.0         0.0         0.0         0.0         0.0   \n",
       "20961           0.0         0.0         0.0         0.0         0.0   \n",
       "20963           0.0         0.0         0.0         0.0         0.0   \n",
       "\n",
       "ISBN     9723704242  9728423160  981013004X  9812327975  9871138016  \n",
       "User-ID                                                              \n",
       "20918           0.0         0.0         0.0         0.0         0.0  \n",
       "20961           0.0         0.0         0.0         0.0         0.0  \n",
       "20963           0.0         0.0         0.0         0.0         0.0  \n",
       "\n",
       "[3 rows x 8621 columns]"
      ]
     },
     "execution_count": 33,
     "metadata": {},
     "output_type": "execute_result"
    }
   ],
   "source": [
    "new_users"
   ]
  },
  {
   "cell_type": "markdown",
   "id": "4de3d4a6-9052-49f5-9302-72cca8da053c",
   "metadata": {},
   "source": [
    "Значит мы будем рекомендовать для каждого нашего пользователя топ 5 книг, которые ему стоит прочитать, <br>\n",
    "книги будут отсортированы в порядке уверенности рекомендации "
   ]
  },
  {
   "cell_type": "code",
   "execution_count": 34,
   "id": "57cb05c7-0c38-4630-8993-c6f023f10aa3",
   "metadata": {},
   "outputs": [],
   "source": [
    "recommendations = []\n",
    "predictions = []\n",
    "for i in range(new_users.values.shape[0]):\n",
    "    user_ratings = new_users.values[i]\n",
    "    predicted = U.dot(np.diag(s)).dot(Vt)\n",
    "    predicted = np.delete(predicted[i], user_ratings.nonzero()[0])\n",
    "    predictions.append(predicted)\n",
    "    top_5_indices = predicted.argsort()[-5:][::-1]\n",
    "    recommendations.append(top_5_indices)\n",
    "\n",
    "columns = ['Recommended_Item_1', 'Recommended_Item_2', 'Recommended_Item_3', 'Recommended_Item_4', 'Recommended_Item_5']\n",
    "recommendations_df = pd.DataFrame(columns=columns, index=new_users.index)\n",
    "\n",
    "for i in range(new_users.shape[0]):\n",
    "    row = [pivot_crop_data.columns[index] for index in recommendations[i]]\n",
    "    recommendations_df.iloc[i] = row"
   ]
  },
  {
   "cell_type": "code",
   "execution_count": 35,
   "id": "c295bece-ec49-42e3-a6af-143b00d3aadb",
   "metadata": {},
   "outputs": [
    {
     "data": {
      "text/html": [
       "<div>\n",
       "<style scoped>\n",
       "    .dataframe tbody tr th:only-of-type {\n",
       "        vertical-align: middle;\n",
       "    }\n",
       "\n",
       "    .dataframe tbody tr th {\n",
       "        vertical-align: top;\n",
       "    }\n",
       "\n",
       "    .dataframe thead th {\n",
       "        text-align: right;\n",
       "    }\n",
       "</style>\n",
       "<table border=\"1\" class=\"dataframe\">\n",
       "  <thead>\n",
       "    <tr style=\"text-align: right;\">\n",
       "      <th></th>\n",
       "      <th>Recommended_Item_1</th>\n",
       "      <th>Recommended_Item_2</th>\n",
       "      <th>Recommended_Item_3</th>\n",
       "      <th>Recommended_Item_4</th>\n",
       "      <th>Recommended_Item_5</th>\n",
       "    </tr>\n",
       "    <tr>\n",
       "      <th>User-ID</th>\n",
       "      <th></th>\n",
       "      <th></th>\n",
       "      <th></th>\n",
       "      <th></th>\n",
       "      <th></th>\n",
       "    </tr>\n",
       "  </thead>\n",
       "  <tbody>\n",
       "    <tr>\n",
       "      <th>20918</th>\n",
       "      <td>155874262X</td>\n",
       "      <td>0786868716</td>\n",
       "      <td>044022103X</td>\n",
       "      <td>0142001740</td>\n",
       "      <td>0439136350</td>\n",
       "    </tr>\n",
       "    <tr>\n",
       "      <th>20961</th>\n",
       "      <td>0786867647</td>\n",
       "      <td>1558670513</td>\n",
       "      <td>0439120489</td>\n",
       "      <td>0971879796</td>\n",
       "      <td>0385485662</td>\n",
       "    </tr>\n",
       "    <tr>\n",
       "      <th>20963</th>\n",
       "      <td>155874262X</td>\n",
       "      <td>0786868716</td>\n",
       "      <td>0439136350</td>\n",
       "      <td>0971880107</td>\n",
       "      <td>044022103X</td>\n",
       "    </tr>\n",
       "  </tbody>\n",
       "</table>\n",
       "</div>"
      ],
      "text/plain": [
       "        Recommended_Item_1 Recommended_Item_2 Recommended_Item_3  \\\n",
       "User-ID                                                            \n",
       "20918           155874262X         0786868716         044022103X   \n",
       "20961           0786867647         1558670513         0439120489   \n",
       "20963           155874262X         0786868716         0439136350   \n",
       "\n",
       "        Recommended_Item_4 Recommended_Item_5  \n",
       "User-ID                                        \n",
       "20918           0142001740         0439136350  \n",
       "20961           0971879796         0385485662  \n",
       "20963           0971880107         044022103X  "
      ]
     },
     "execution_count": 35,
     "metadata": {},
     "output_type": "execute_result"
    }
   ],
   "source": [
    "recommendations_df"
   ]
  },
  {
   "cell_type": "markdown",
   "id": "eebd00fb-1d5e-495c-b5f1-4971197c5844",
   "metadata": {},
   "source": [
    "Вот рекомендации для нашего 2-го пользователя в названиях книг, а не их книжный номер"
   ]
  },
  {
   "cell_type": "code",
   "execution_count": 36,
   "id": "821d232d-79a2-445c-b57d-6116e0d7b8c7",
   "metadata": {},
   "outputs": [
    {
     "data": {
      "text/plain": [
       "Recommended_Item_1                  Black Beauty (Illustrated Classics)\n",
       "Recommended_Item_2                                      The Information\n",
       "Recommended_Item_3    British Railways Past and Present: Wiltshire (...\n",
       "Recommended_Item_4    From Global to Metanational: How Companies Win...\n",
       "Recommended_Item_5                 Shaman Pass: A Nathan Active Mystery\n",
       "Name: 20961, dtype: object"
      ]
     },
     "execution_count": 36,
     "metadata": {},
     "output_type": "execute_result"
    }
   ],
   "source": [
    "recommendations_df.iloc[1].map(books_dict)"
   ]
  },
  {
   "cell_type": "markdown",
   "id": "de6b0db0-96ea-407c-9e6a-edbf8a64d13c",
   "metadata": {},
   "source": [
    "<b> Как можно улучшить систему рекомендаций?\n",
    "    \n",
    "1. Учитывать не только оценки пользователй, но и дополнительную информацию о пользователе и товаре, <br>\n",
    "   такую как возраст, местоположение, жанр и т.д.\n",
    "\n",
    "2. Расширить матрицу данных, чтобы увеличить точность рекомендаций.\n",
    "\n",
    "3. Использовать методы группировки пользователей, чтобы учитывать схожие интересы и поведение пользователей."
   ]
  }
 ],
 "metadata": {
  "kernelspec": {
   "display_name": "Python 3 (ipykernel)",
   "language": "python",
   "name": "python3"
  },
  "language_info": {
   "codemirror_mode": {
    "name": "ipython",
    "version": 3
   },
   "file_extension": ".py",
   "mimetype": "text/x-python",
   "name": "python",
   "nbconvert_exporter": "python",
   "pygments_lexer": "ipython3",
   "version": "3.8.10"
  }
 },
 "nbformat": 4,
 "nbformat_minor": 5
}
